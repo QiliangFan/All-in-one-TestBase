{
 "metadata": {
  "language_info": {
   "codemirror_mode": {
    "name": "ipython",
    "version": 3
   },
   "file_extension": ".py",
   "mimetype": "text/x-python",
   "name": "python",
   "nbconvert_exporter": "python",
   "pygments_lexer": "ipython3",
   "version": "3.8.5"
  },
  "orig_nbformat": 4,
  "kernelspec": {
   "name": "python3",
   "display_name": "Python 3.8.5 64-bit ('ml': conda)"
  },
  "interpreter": {
   "hash": "31416d85a9b5eb123e5e15673e2f015463e3680f3131b9840b22a0bd3286ffb9"
  }
 },
 "nbformat": 4,
 "nbformat_minor": 2,
 "cells": [
  {
   "cell_type": "code",
   "execution_count": 2,
   "metadata": {},
   "outputs": [
    {
     "output_type": "execute_result",
     "data": {
      "text/plain": [
       "2.3"
      ]
     },
     "metadata": {},
     "execution_count": 2
    }
   ],
   "source": [
    "float(\"2.3\")"
   ]
  }
 ]
}