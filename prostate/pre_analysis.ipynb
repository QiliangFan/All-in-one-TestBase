{
 "cells": [
  {
   "cell_type": "code",
   "execution_count": 2,
   "source": [
    "import yaml\n",
    "from glob import glob\n",
    "import os\n",
    "import SimpleITK as sitk\n",
    "from scipy.ndimage import zoom\n",
    "import numpy as np\n",
    "from multiprocessing import Pool\n",
    "\n",
    "config = yaml.load(open(\"config.yaml\", \"r\"), Loader=yaml.FullLoader)\n",
    "print(config)\n",
    "train_root_list = config[\"input\"][\"train\"]\n",
    "test_root_list = config[\"input\"][\"test\"]\n",
    "\n",
    "processed_output_root = config[\"processed\"][\"train\"]\n",
    "if not os.path.exists(processed_output_root):\n",
    "    os.makedirs(processed_output_root)"
   ],
   "outputs": [
    {
     "output_type": "stream",
     "name": "stdout",
     "text": [
      "{'input': {'train': ['/home/fanqiliang/data/Prostate/TrainingData_Part1', '/home/fanqiliang/data/Prostate/TrainingData_Part2', '/home/fanqiliang/data/Prostate/TrainingData_Part3'], 'test': ['/home/fanqiliang/data/Prostate/TestData']}, 'processed': {'train': '/home/fanqiliang/processed_data/train', 'test': '/home/fanqiliang/processed_data/test'}}\n"
     ]
    }
   ],
   "metadata": {}
  },
  {
   "cell_type": "code",
   "execution_count": 3,
   "source": [
    "train_files = []\n",
    "train_seg_files = []\n",
    "for train_root in train_root_list:\n",
    "    _train_files = glob(os.path.join(train_root, \"Case[0-9][0-9].mhd\"))\n",
    "    _seg_files = [f.replace(\".mhd\", \"_segmentation.mhd\") for f in _train_files] \n",
    "    train_files.extend(_train_files)\n",
    "    train_seg_files.extend(_seg_files)\n",
    "\n",
    "test_files = []\n",
    "for test_root in test_root_list:\n",
    "    test_files.extend(glob(os.path.join(test_root, \"*.mhd\")))\n",
    "\n",
    "print(f\"Train files: {len(train_files)}\")\n",
    "print(f\"Test files: {len(test_files)}\")"
   ],
   "outputs": [
    {
     "output_type": "stream",
     "name": "stdout",
     "text": [
      "Train files: 50\n",
      "Test files: 30\n"
     ]
    }
   ],
   "metadata": {}
  },
  {
   "cell_type": "code",
   "execution_count": 4,
   "source": [
    "# train file\n",
    "\n",
    "\n",
    "dst_shape = (64, 128, 128)\n",
    "\n",
    "def do(idx, file, seg, save_root: str):\n",
    "    img = sitk.ReadImage(file)\n",
    "    seg_img = sitk.ReadImage(seg)\n",
    "    assert img.GetSize() == seg_img.GetSize()\n",
    "    assert img.GetSpacing() == seg_img.GetSpacing()\n",
    "    arr = sitk.GetArrayFromImage(img)\n",
    "    seg_arr = sitk.GetArrayFromImage(seg_img)\n",
    "\n",
    "    arr = zoom(arr, (64 / arr.shape[0], 128 / arr.shape[1], 128 / arr.shape[2])).astype(np.float32)\n",
    "    seg_arr = zoom(seg_arr, (64 / seg_arr.shape[0], 128 / seg_arr.shape[1], 128 / seg_arr.shape[2]))\n",
    "\n",
    "    arr = (arr - arr.min()) / (arr.max() - arr.min())\n",
    "    arr = (arr - arr.mean()) / arr.std()\n",
    "\n",
    "    sitk.WriteImage(sitk.GetImageFromArray(arr), os.path.join(save_root, f\"{idx}.mhd\"))\n",
    "    sitk.WriteImage(sitk.GetImageFromArray(seg_arr), os.path.join(save_root, f\"{idx}_seg.mhd\"))\n",
    "\n",
    "params = []\n",
    "\n",
    "\n",
    "for i, (file, seg) in enumerate(zip(train_files, train_seg_files)):\n",
    "    params.append([i, file, seg, processed_output_root])\n",
    "\n",
    "with Pool(16) as pool:\n",
    "    pool.starmap(do, params)\n"
   ],
   "outputs": [],
   "metadata": {}
  },
  {
   "cell_type": "code",
   "execution_count": 5,
   "source": [
    "# processed files\n",
    "train_files = glob(os.path.join(processed_output_root, \"*[0-9].mhd\"))\n",
    "train_seg_files = [v.replace(\".mhd\", \"_seg.mhd\") for v in train_files]\n",
    "\n",
    "seg_range = set()\n",
    "shape = set()\n",
    "\n",
    "max_z, max_y, max_x = 0, 0, 0\n",
    "\n",
    "for file, seg_file in zip(train_files, train_seg_files):\n",
    "    img = sitk.ReadImage(file)\n",
    "    seg_img = sitk.ReadImage(seg_file)\n",
    "    arr = sitk.GetArrayFromImage(img)\n",
    "    seg_arr = sitk.GetArrayFromImage(seg_img)\n",
    "\n",
    "\n",
    "    idx = np.where(seg_arr > 0)\n",
    "    max_z = max(max_z, max(idx[0]) - min(idx[0]))\n",
    "    max_y = max(max_y, max(idx[1]) - min(idx[1]))\n",
    "    max_x = max(max_x, max(idx[2]) - min(idx[2]))\n",
    "    seg_range.add((max(idx[0]) - min(idx[0]), max(idx[1]) - min(idx[1]), max(idx[2]) - min(idx[2])))\n",
    "    shape.add(seg_arr.shape)\n"
   ],
   "outputs": [],
   "metadata": {}
  },
  {
   "cell_type": "code",
   "execution_count": 7,
   "source": [
    "test_seg = train_files[0]\n",
    "\n",
    "test_img = sitk.ReadImage(test_seg)\n",
    "\n",
    "test_arr = sitk.GetArrayFromImage(test_img)\n",
    "\n",
    "import matplotlib.pyplot as plt\n",
    "for i, arr in enumerate(test_arr):\n",
    "    plt.figure()\n",
    "    plt.imshow(arr, cmap=\"bone\")\n",
    "    plt.savefig(f\"{i}.png\", bbox_inches=\"tight\")\n",
    "    plt.close()"
   ],
   "outputs": [],
   "metadata": {}
  },
  {
   "cell_type": "code",
   "execution_count": null,
   "source": [],
   "outputs": [],
   "metadata": {}
  }
 ],
 "metadata": {
  "orig_nbformat": 4,
  "language_info": {
   "name": "python",
   "version": "3.8.11",
   "mimetype": "text/x-python",
   "codemirror_mode": {
    "name": "ipython",
    "version": 3
   },
   "pygments_lexer": "ipython3",
   "nbconvert_exporter": "python",
   "file_extension": ".py"
  },
  "kernelspec": {
   "name": "python3",
   "display_name": "Python 3.8.11 64-bit ('ml': conda)"
  },
  "interpreter": {
   "hash": "54821852e65b50b19a3eb8102a80b0dff8bb59d26e12ee8f431dd3f60ca095ba"
  }
 },
 "nbformat": 4,
 "nbformat_minor": 2
}