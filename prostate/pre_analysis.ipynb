{
 "cells": [
  {
   "cell_type": "code",
   "execution_count": 1,
   "metadata": {},
   "outputs": [
    {
     "name": "stdout",
     "output_type": "stream",
     "text": [
      "{'input': {'train': ['/home/lisiyi/data/Prostate/TrainingData_Part1', '/home/lisiyi/data/Prostate/TrainingData_Part2', '/home/lisiyi/data/Prostate/TrainingData_Part3'], 'test': ['/home/lisiyi/data/Prostate/TestData']}, 'processed': {'train': '/home/lisiyi/processed_data/train', 'test': '/home/lisiyi/processed_data/test'}}\n"
     ]
    }
   ],
   "source": [
    "import yaml\n",
    "from glob import glob\n",
    "import os\n",
    "import SimpleITK as sitk\n",
    "from scipy.ndimage import zoom\n",
    "import numpy as np\n",
    "from multiprocessing import Pool\n",
    "\n",
    "config = yaml.load(open(\"config.yaml\", \"r\"), Loader=yaml.FullLoader)\n",
    "print(config)\n",
    "train_root_list = config[\"input\"][\"train\"]\n",
    "test_root_list = config[\"input\"][\"test\"]\n",
    "\n",
    "processed_output_root = config[\"processed\"][\"train\"]\n",
    "if not os.path.exists(processed_output_root):\n",
    "    os.makedirs(processed_output_root)"
   ]
  },
  {
   "cell_type": "code",
   "execution_count": 2,
   "metadata": {},
   "outputs": [
    {
     "name": "stdout",
     "output_type": "stream",
     "text": [
      "Train files: 50\n",
      "Test files: 30\n"
     ]
    }
   ],
   "source": [
    "train_files = []\n",
    "train_seg_files = []\n",
    "for train_root in train_root_list:\n",
    "    _train_files = glob(os.path.join(train_root, \"Case[0-9][0-9].mhd\"))\n",
    "    _seg_files = [f.replace(\".mhd\", \"_segmentation.mhd\") for f in _train_files] \n",
    "    train_files.extend(_train_files)\n",
    "    train_seg_files.extend(_seg_files)\n",
    "\n",
    "test_files = []\n",
    "for test_root in test_root_list:\n",
    "    test_files.extend(glob(os.path.join(test_root, \"*.mhd\")))\n",
    "\n",
    "print(f\"Train files: {len(train_files)}\")\n",
    "print(f\"Test files: {len(test_files)}\")"
   ]
  },
  {
   "cell_type": "code",
   "execution_count": 3,
   "metadata": {},
   "outputs": [],
   "source": [
    "# train file\n",
    "from scipy import ndimage\n",
    "\n",
    "dst_shape = (64, 128, 128)\n",
    "\n",
    "def do(idx, file, seg, save_root: str):\n",
    "    img = sitk.ReadImage(file)\n",
    "    seg_img = sitk.ReadImage(seg)\n",
    "    assert img.GetSize() == seg_img.GetSize()\n",
    "    assert img.GetSpacing() == seg_img.GetSpacing()\n",
    "    arr = sitk.GetArrayFromImage(img)\n",
    "    seg_arr = sitk.GetArrayFromImage(seg_img)\n",
    "\n",
    "    arr = zoom(arr, (64 / arr.shape[0], 128 / arr.shape[1], 128 / arr.shape[2]), mode=\"nearest\").astype(np.float32)\n",
    "    seg_arr = zoom(seg_arr, (64 / seg_arr.shape[0], 128 / seg_arr.shape[1], 128 / seg_arr.shape[2]), mode=\"nearest\").astype(np.int8)\n",
    "    for i, slice in enumerate(seg_arr):\n",
    "        seg_arr[i] = ndimage.binary_fill_holes(slice, structure=np.ones((5, 5))).astype(np.int8)\n",
    "\n",
    "    arr = (arr - arr.mean()) / arr.std()\n",
    "    arr = (arr - arr.min()) / (arr.max() - arr.min())\n",
    "\n",
    "    sitk.WriteImage(sitk.GetImageFromArray(arr), os.path.join(save_root, f\"{idx}.mhd\"))\n",
    "    sitk.WriteImage(sitk.GetImageFromArray(seg_arr), os.path.join(save_root, f\"{idx}_seg.mhd\"))\n",
    "\n",
    "params = []\n",
    "\n",
    "\n",
    "for i, (file, seg) in enumerate(zip(train_files, train_seg_files)):\n",
    "    params.append([i, file, seg, processed_output_root])\n",
    "\n",
    "with Pool(64) as pool:\n",
    "    pool.starmap(do, params)\n"
   ]
  },
  {
   "cell_type": "code",
   "execution_count": 5,
   "metadata": {},
   "outputs": [],
   "source": [
    "# processed files\n",
    "train_files = glob(os.path.join(processed_output_root, \"*[0-9].mhd\"))\n",
    "train_seg_files = [v.replace(\".mhd\", \"_seg.mhd\") for v in train_files]\n",
    "\n",
    "seg_range = set()\n",
    "shape = set()\n",
    "\n",
    "max_z, max_y, max_x = 0, 0, 0\n",
    "\n",
    "for file, seg_file in zip(train_files, train_seg_files):\n",
    "    img = sitk.ReadImage(file)\n",
    "    seg_img = sitk.ReadImage(seg_file)\n",
    "    arr = sitk.GetArrayFromImage(img)\n",
    "    seg_arr = sitk.GetArrayFromImage(seg_img)\n",
    "\n",
    "\n",
    "    idx = np.where(seg_arr > 0)\n",
    "    max_z = max(max_z, max(idx[0]) - min(idx[0]))\n",
    "    max_y = max(max_y, max(idx[1]) - min(idx[1]))\n",
    "    max_x = max(max_x, max(idx[2]) - min(idx[2]))\n",
    "    seg_range.add((max(idx[0]) - min(idx[0]), max(idx[1]) - min(idx[1]), max(idx[2]) - min(idx[2])))\n",
    "    shape.add(seg_arr.shape)\n"
   ]
  },
  {
   "cell_type": "code",
   "execution_count": 4,
   "metadata": {},
   "outputs": [],
   "source": [
    "test_seg = train_files[0]\n",
    "\n",
    "test_img = sitk.ReadImage(test_seg)\n",
    "\n",
    "test_arr = sitk.GetArrayFromImage(test_img)\n",
    "\n",
    "import matplotlib.pyplot as plt\n",
    "\n",
    "%matplotlib inline\n",
    "for i, arr in enumerate(test_arr):\n",
    "    if len(np.where(arr > 0)[0]) > 0:\n",
    "        plt.figure()\n",
    "        plt.imshow(arr, cmap=\"bone\")\n",
    "        plt.savefig(f\"{i}.png\", bbox_inches=\"tight\")\n",
    "        plt.close()"
   ]
  },
  {
   "cell_type": "code",
   "execution_count": null,
   "metadata": {},
   "outputs": [],
   "source": []
  }
 ],
 "metadata": {
  "interpreter": {
   "hash": "24289d194a4ef42ebb8ca1dd33a8ecd758fdfe6f232cc7081e44b5be93ef262c"
  },
  "kernelspec": {
   "display_name": "Python 3.8.11 64-bit ('ml': conda)",
   "name": "python3"
  },
  "language_info": {
   "codemirror_mode": {
    "name": "ipython",
    "version": 3
   },
   "file_extension": ".py",
   "mimetype": "text/x-python",
   "name": "python",
   "nbconvert_exporter": "python",
   "pygments_lexer": "ipython3",
   "version": "3.8.11"
  },
  "orig_nbformat": 4
 },
 "nbformat": 4,
 "nbformat_minor": 2
}
