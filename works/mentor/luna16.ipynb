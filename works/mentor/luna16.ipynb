{
 "cells": [
  {
   "cell_type": "code",
   "execution_count": 5,
   "source": [
    "data_root = \"/home/maling/fanqiliang/lung16\"\n",
    "annotation_csv = \"/home/maling/fanqiliang/lung16/CSVFILES/annotations.csv\"\n",
    "ct_root = \"/home/maling/fanqiliang/lung16/LUNG16\"\n",
    "\n",
    "output_root = \"/home/maling/fanqiliang/output_data/medical_data/ct\""
   ],
   "outputs": [],
   "metadata": {}
  },
  {
   "cell_type": "code",
   "execution_count": 6,
   "source": [
    "import pandas as pd\n",
    "annotation = pd.read_csv(annotation_csv)\n"
   ],
   "outputs": [],
   "metadata": {}
  },
  {
   "cell_type": "code",
   "execution_count": 7,
   "source": [
    "from glob import glob\n",
    "import os\n",
    "import math\n",
    "import SimpleITK as sitk\n",
    "from PIL import Image\n",
    "import cv2\n",
    "import numpy as np\n",
    "\n",
    "\n",
    "if not os.path.exists(output_root):\n",
    "    os.makedirs(output_root, exist_ok=True)\n",
    "\n",
    "annotation_csv = os.path.join(output_root, \"annotation.csv\")\n",
    "\n",
    "file_list = []\n",
    "an_bboxs = []\n",
    "\n",
    "for ct_idx, (sid, groupobj) in enumerate(annotation.groupby(\"seriesuid\")):\n",
    "    save_path = os.path.join(output_root, f\"{ct_idx}\")\n",
    "\n",
    "    bboxs = []\n",
    "\n",
    "    mhd_file = glob(os.path.join(ct_root, \"**\", f\"{sid}.mhd\"))[0]\n",
    "    img = sitk.ReadImage(mhd_file)\n",
    "    arr = sitk.GetArrayFromImage(img)\n",
    "    x_list = groupobj[\"coordX\"]\n",
    "    y_list = groupobj[\"coordY\"]\n",
    "    z_list = groupobj[\"coordZ\"]\n",
    "    d_list = groupobj[\"diameter_mm\"]\n",
    "\n",
    "    spacing = img.GetSpacing()  # (s_x, s_y, s_z)\n",
    "    for x, y, z, d in zip(x_list, y_list, z_list, d_list):\n",
    "        (i, j, k) = img.TransformPhysicalPointToIndex((x, y, z))\n",
    "        (dx, dy, dz) = int(d // spacing[0]), int(d // spacing[1]), int(d // spacing[2])\n",
    "        bboxs.append([(k-math.ceil(dz//2), k+math.ceil(dz//2)), (j-math.ceil(dy//2), j+math.ceil(dy//2)), (i-math.ceil(dx//2), i+math.ceil(dx//2))])  # [(z_min, z_max), (y_min, y_max), (x_min, x_max)]\n",
    "\n",
    "    for idx, slice in enumerate(arr):\n",
    "        data_path = os.path.join(save_path, \"data\")\n",
    "        label_path = os.path.join(save_path, \"label\")\n",
    "        if not os.path.exists(data_path):\n",
    "            os.makedirs(data_path, exist_ok=True)\n",
    "        if not os.path.exists(label_path):\n",
    "            os.makedirs(label_path, exist_ok=True)\n",
    "\n",
    "        # data\n",
    "        sitk.WriteImage(sitk.GetImageFromArray(slice), os.path.join(data_path, f\"{idx}.dcm\"))\n",
    "        file_list.append(os.path.join(f\"{ct_idx}\", \"data\", f\"{idx}.dcm\"))\n",
    "        \n",
    "        # label\n",
    "        _bbox = []\n",
    "        jpg = Image.fromarray((slice - slice.min()) / (slice.max() - slice.min()) * 255).convert(\"RGB\")\n",
    "        jpg = np.asarray(jpg)\n",
    "        for (z_min, z_max), (y_min, y_max), (x_min, x_max) in bboxs:\n",
    "            if z_min <= idx <= z_max:\n",
    "                cv2.rectangle(jpg, (x_min, y_min), (x_max, y_max), color=(0, 255, 0), thickness=1)\n",
    "                _bbox.append([x_min, y_min, x_max, y_max])\n",
    "        an_bboxs.append(_bbox)\n",
    "        cv2.imwrite(os.path.join(label_path, f\"{idx}.jpg\"), jpg)\n",
    "\n",
    "    annotation = pd.DataFrame({\n",
    "        \"file\": file_list,\n",
    "        \"bbox\": an_bboxs\n",
    "    })\n",
    "    annotation.to_csv(annotation_csv, index=False)\n",
    "        "
   ],
   "outputs": [
    {
     "output_type": "error",
     "ename": "RuntimeError",
     "evalue": "Exception thrown in SimpleITK ImageFileWriter_Execute: /tmp/SimpleITK-build/ITK/Modules/IO/GDCM/src/itkGDCMImageIO.cxx:1154:\nitk::ERROR: itk::ERROR: GDCMImageIO(0x55e7cc833ed0): A Floating point buffer was passed but the stored pixel type was not specified.This is currently not supported",
     "traceback": [
      "\u001b[0;31m---------------------------------------------------------------------------\u001b[0m",
      "\u001b[0;31mRuntimeError\u001b[0m                              Traceback (most recent call last)",
      "\u001b[0;32m<ipython-input-7-9ffb9101ccf4>\u001b[0m in \u001b[0;36m<module>\u001b[0;34m\u001b[0m\n\u001b[1;32m     45\u001b[0m \u001b[0;34m\u001b[0m\u001b[0m\n\u001b[1;32m     46\u001b[0m         \u001b[0;31m# data\u001b[0m\u001b[0;34m\u001b[0m\u001b[0;34m\u001b[0m\u001b[0;34m\u001b[0m\u001b[0m\n\u001b[0;32m---> 47\u001b[0;31m         \u001b[0msitk\u001b[0m\u001b[0;34m.\u001b[0m\u001b[0mWriteImage\u001b[0m\u001b[0;34m(\u001b[0m\u001b[0msitk\u001b[0m\u001b[0;34m.\u001b[0m\u001b[0mGetImageFromArray\u001b[0m\u001b[0;34m(\u001b[0m\u001b[0mslice\u001b[0m\u001b[0;34m)\u001b[0m\u001b[0;34m,\u001b[0m \u001b[0mos\u001b[0m\u001b[0;34m.\u001b[0m\u001b[0mpath\u001b[0m\u001b[0;34m.\u001b[0m\u001b[0mjoin\u001b[0m\u001b[0;34m(\u001b[0m\u001b[0mdata_path\u001b[0m\u001b[0;34m,\u001b[0m \u001b[0;34mf\"{idx}.dcm\"\u001b[0m\u001b[0;34m)\u001b[0m\u001b[0;34m)\u001b[0m\u001b[0;34m\u001b[0m\u001b[0;34m\u001b[0m\u001b[0m\n\u001b[0m\u001b[1;32m     48\u001b[0m         \u001b[0mfile_list\u001b[0m\u001b[0;34m.\u001b[0m\u001b[0mappend\u001b[0m\u001b[0;34m(\u001b[0m\u001b[0mos\u001b[0m\u001b[0;34m.\u001b[0m\u001b[0mpath\u001b[0m\u001b[0;34m.\u001b[0m\u001b[0mjoin\u001b[0m\u001b[0;34m(\u001b[0m\u001b[0;34mf\"{ct_idx}\"\u001b[0m\u001b[0;34m,\u001b[0m \u001b[0;34m\"data\"\u001b[0m\u001b[0;34m,\u001b[0m \u001b[0;34mf\"{idx}.dcm\"\u001b[0m\u001b[0;34m)\u001b[0m\u001b[0;34m)\u001b[0m\u001b[0;34m\u001b[0m\u001b[0;34m\u001b[0m\u001b[0m\n\u001b[1;32m     49\u001b[0m \u001b[0;34m\u001b[0m\u001b[0m\n",
      "\u001b[0;32m~/miniconda3/envs/ml/lib/python3.8/site-packages/SimpleITK/extra.py\u001b[0m in \u001b[0;36mWriteImage\u001b[0;34m(image, fileName, useCompression, compressionLevel, imageIO, compressor)\u001b[0m\n\u001b[1;32m    392\u001b[0m     \u001b[0mwriter\u001b[0m\u001b[0;34m.\u001b[0m\u001b[0mSetImageIO\u001b[0m\u001b[0;34m(\u001b[0m\u001b[0mimageIO\u001b[0m\u001b[0;34m)\u001b[0m\u001b[0;34m\u001b[0m\u001b[0;34m\u001b[0m\u001b[0m\n\u001b[1;32m    393\u001b[0m     \u001b[0mwriter\u001b[0m\u001b[0;34m.\u001b[0m\u001b[0mSetCompressor\u001b[0m\u001b[0;34m(\u001b[0m\u001b[0mcompressor\u001b[0m\u001b[0;34m)\u001b[0m\u001b[0;34m\u001b[0m\u001b[0;34m\u001b[0m\u001b[0m\n\u001b[0;32m--> 394\u001b[0;31m     \u001b[0;32mreturn\u001b[0m \u001b[0mwriter\u001b[0m\u001b[0;34m.\u001b[0m\u001b[0mExecute\u001b[0m\u001b[0;34m(\u001b[0m\u001b[0mimage\u001b[0m\u001b[0;34m)\u001b[0m\u001b[0;34m\u001b[0m\u001b[0;34m\u001b[0m\u001b[0m\n\u001b[0m\u001b[1;32m    395\u001b[0m \u001b[0;34m\u001b[0m\u001b[0m\n\u001b[1;32m    396\u001b[0m \u001b[0;34m\u001b[0m\u001b[0m\n",
      "\u001b[0;32m~/miniconda3/envs/ml/lib/python3.8/site-packages/SimpleITK/SimpleITK.py\u001b[0m in \u001b[0;36mExecute\u001b[0;34m(self, *args)\u001b[0m\n\u001b[1;32m   5516\u001b[0m         \u001b[0mExecute\u001b[0m\u001b[0;34m(\u001b[0m\u001b[0mImageFileWriter\u001b[0m \u001b[0mself\u001b[0m\u001b[0;34m,\u001b[0m \u001b[0mImage\u001b[0m \u001b[0marg2\u001b[0m\u001b[0;34m,\u001b[0m \u001b[0mstd\u001b[0m\u001b[0;34m:\u001b[0m\u001b[0;34m:\u001b[0m\u001b[0mstring\u001b[0m \u001b[0mconst\u001b[0m \u001b[0;34m&\u001b[0m \u001b[0minFileName\u001b[0m\u001b[0;34m,\u001b[0m \u001b[0mbool\u001b[0m \u001b[0museCompression\u001b[0m\u001b[0;34m,\u001b[0m \u001b[0mint\u001b[0m \u001b[0mcompressionLevel\u001b[0m\u001b[0;34m)\u001b[0m\u001b[0;34m\u001b[0m\u001b[0;34m\u001b[0m\u001b[0m\n\u001b[1;32m   5517\u001b[0m         \"\"\"\n\u001b[0;32m-> 5518\u001b[0;31m         \u001b[0;32mreturn\u001b[0m \u001b[0m_SimpleITK\u001b[0m\u001b[0;34m.\u001b[0m\u001b[0mImageFileWriter_Execute\u001b[0m\u001b[0;34m(\u001b[0m\u001b[0mself\u001b[0m\u001b[0;34m,\u001b[0m \u001b[0;34m*\u001b[0m\u001b[0margs\u001b[0m\u001b[0;34m)\u001b[0m\u001b[0;34m\u001b[0m\u001b[0;34m\u001b[0m\u001b[0m\n\u001b[0m\u001b[1;32m   5519\u001b[0m \u001b[0;34m\u001b[0m\u001b[0m\n\u001b[1;32m   5520\u001b[0m \u001b[0;31m# Register ImageFileWriter in _SimpleITK:\u001b[0m\u001b[0;34m\u001b[0m\u001b[0;34m\u001b[0m\u001b[0;34m\u001b[0m\u001b[0m\n",
      "\u001b[0;31mRuntimeError\u001b[0m: Exception thrown in SimpleITK ImageFileWriter_Execute: /tmp/SimpleITK-build/ITK/Modules/IO/GDCM/src/itkGDCMImageIO.cxx:1154:\nitk::ERROR: itk::ERROR: GDCMImageIO(0x55e7cc833ed0): A Floating point buffer was passed but the stored pixel type was not specified.This is currently not supported"
     ]
    }
   ],
   "metadata": {}
  },
  {
   "cell_type": "code",
   "execution_count": null,
   "source": [],
   "outputs": [],
   "metadata": {}
  }
 ],
 "metadata": {
  "orig_nbformat": 4,
  "language_info": {
   "name": "python",
   "version": "3.8.5",
   "mimetype": "text/x-python",
   "codemirror_mode": {
    "name": "ipython",
    "version": 3
   },
   "pygments_lexer": "ipython3",
   "nbconvert_exporter": "python",
   "file_extension": ".py"
  },
  "kernelspec": {
   "name": "python3",
   "display_name": "Python 3.8.5 64-bit ('ml': conda)"
  },
  "interpreter": {
   "hash": "31416d85a9b5eb123e5e15673e2f015463e3680f3131b9840b22a0bd3286ffb9"
  }
 },
 "nbformat": 4,
 "nbformat_minor": 2
}