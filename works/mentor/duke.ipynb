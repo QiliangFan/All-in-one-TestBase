{
 "cells": [
  {
   "cell_type": "code",
   "execution_count": 1,
   "source": [
    "data_root = \"/home/maling/fanqiliang/data/Duke-Breast-Cancer-MRI\"\n",
    "save_root = \"/home/maling/fanqiliang/output_data/medical_data/mr\""
   ],
   "outputs": [],
   "metadata": {}
  },
  {
   "cell_type": "code",
   "execution_count": 2,
   "source": [
    "import os\n",
    "import shutil\n",
    "\n",
    "annotation_csv = os.path.join(data_root, \"Annotation_Boxes.xlsx\")\n",
    "\n",
    "meta_csv = \"/home/maling/fanqiliang/data/Duke-Breast-Cancer-MRI/manifest-1607053360376/metadata.csv\"\n",
    "\n",
    "# Subject ID <=> Patient ID"
   ],
   "outputs": [],
   "metadata": {}
  },
  {
   "cell_type": "code",
   "execution_count": 3,
   "source": [
    "import pandas as pd\n",
    "\n",
    "annotation_dt = pd.read_excel(annotation_csv)\n",
    "meta_dt = pd.read_csv(meta_csv)\n",
    "\n",
    "annotation_dt.to_csv(os.path.join(save_root, \"annotation.csv\"))\n",
    "print(f\"annotation: {annotation_dt.columns.values}\")\n",
    "print(f\"meta: {meta_dt.columns.values}\")\n"
   ],
   "outputs": [
    {
     "output_type": "stream",
     "name": "stdout",
     "text": [
      "annotation: ['Patient ID' 'Start Row' 'End Row' 'Start Column' 'End Column'\n",
      " 'Start Slice' 'End Slice']\n",
      "meta: ['Series UID' 'Collection' '3rd Party Analysis' 'Data Description URI'\n",
      " 'Subject ID' 'Study UID' 'Study Description' 'Study Date'\n",
      " 'Series Description' 'Manufacturer' 'Modality' 'SOP Class Name'\n",
      " 'SOP Class UID' 'Number of Images' 'File Size' 'File Location'\n",
      " 'Download Timestamp']\n"
     ]
    }
   ],
   "metadata": {}
  },
  {
   "cell_type": "code",
   "execution_count": 5,
   "source": [
    "import SimpleITK as sitk\n",
    "from PIL import Image\n",
    "import numpy as np\n",
    "root = \"/home/maling/fanqiliang/data/Duke-Breast-Cancer-MRI/manifest-1607053360376\"\n",
    "from glob import glob\n",
    "import cv2\n",
    "\n",
    "for i, row in meta_dt.iterrows():\n",
    "    save_data_root = os.path.join(save_root, f\"{i}\", \"data\")\n",
    "    save_label_root = os.path.join(save_root, f\"{i}\", \"label\")\n",
    "\n",
    "    if not os.path.exists(save_data_root):\n",
    "        os.makedirs(save_data_root)\n",
    "\n",
    "    if not os.path.exists(save_label_root):\n",
    "        os.makedirs(save_label_root)\n",
    "    map_id = row[\"Subject ID\"]\n",
    "    _meta = annotation_dt[annotation_dt[\"Patient ID\"] == map_id]\n",
    "    print(map_id, \"annotation num: \",len(_meta))\n",
    "    draw = True   # no annotations\n",
    "    try:\n",
    "        start_row, end_row = int(_meta['Start Row'][0]), int(_meta['End Row'][0])\n",
    "        start_column, end_column = int(_meta[\"Start Column\"][0]), int(_meta['End Column'][0])\n",
    "        start_slice, end_slice = int(_meta[\"Start Slice\"][0]), int(_meta['End Slice'][0])\n",
    "    except:\n",
    "        draw = False\n",
    "\n",
    "    path = str(row[\"File Location\"]).lstrip(\".\\\\\").replace(\"\\\\\", \"/\")\n",
    "    path = os.path.join(root, path)\n",
    "    slices = glob(os.path.join(path, \"*.dcm\"))\n",
    "    slices.sort()\n",
    "    for idx, dcm in enumerate(slices):\n",
    "        dst_dcm = os.path.join(save_data_root, os.path.basename(dcm))\n",
    "        dst_label = os.path.join(save_label_root, os.path.basename(dcm).replace(\".dcm\", \".jpg\"))\n",
    "        idx = idx + 1  # start from 1\n",
    "        shutil.copyfile(dcm, dst_dcm)\n",
    "\n",
    "        img = sitk.ReadImage(dcm)\n",
    "        arr = sitk.GetArrayFromImage(img)[0]\n",
    "        arr = np.asarray(Image.fromarray(arr).convert(\"RGB\"))\n",
    "        arr = (arr - arr.min()) / (arr.max() - arr.min()) * 255\n",
    "        if draw and start_slice <= idx <= end_slice:\n",
    "            cv2.rectangle(arr, (start_column, start_row), (end_column, end_row), color=(0, 0, 255), thickness=5)\n",
    "            # cv2.rectangle(arr, (start_row, start_column), (end_row, end_column), color=(0, 0, 255), thickness=5)\n",
    "        cv2.imwrite(dst_label, arr)\n"
   ],
   "outputs": [
    {
     "output_type": "stream",
     "name": "stdout",
     "text": [
      "Breast_MRI_001\n",
      "1\n",
      "Breast_MRI_001\n",
      "1\n",
      "Breast_MRI_001\n",
      "1\n",
      "Breast_MRI_001\n",
      "1\n",
      "Breast_MRI_001\n",
      "1\n",
      "Breast_MRI_002\n",
      "1\n",
      "Breast_MRI_002\n",
      "1\n",
      "Breast_MRI_002\n",
      "1\n",
      "Breast_MRI_002\n",
      "1\n",
      "Breast_MRI_001\n",
      "1\n",
      "Breast_MRI_002\n",
      "1\n",
      "Breast_MRI_003\n",
      "1\n",
      "Breast_MRI_003\n",
      "1\n",
      "Breast_MRI_003\n",
      "1\n",
      "Breast_MRI_003\n",
      "1\n",
      "Breast_MRI_004\n",
      "1\n",
      "Breast_MRI_003\n",
      "1\n",
      "Breast_MRI_003\n",
      "1\n",
      "Breast_MRI_004\n",
      "1\n",
      "Breast_MRI_004\n",
      "1\n"
     ]
    }
   ],
   "metadata": {}
  },
  {
   "cell_type": "code",
   "execution_count": null,
   "source": [],
   "outputs": [],
   "metadata": {}
  }
 ],
 "metadata": {
  "orig_nbformat": 4,
  "language_info": {
   "name": "python",
   "version": "3.8.5",
   "mimetype": "text/x-python",
   "codemirror_mode": {
    "name": "ipython",
    "version": 3
   },
   "pygments_lexer": "ipython3",
   "nbconvert_exporter": "python",
   "file_extension": ".py"
  },
  "kernelspec": {
   "name": "python3",
   "display_name": "Python 3.8.5 64-bit ('ml': conda)"
  },
  "interpreter": {
   "hash": "31416d85a9b5eb123e5e15673e2f015463e3680f3131b9840b22a0bd3286ffb9"
  }
 },
 "nbformat": 4,
 "nbformat_minor": 2
}