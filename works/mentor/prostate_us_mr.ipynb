{
 "cells": [
  {
   "cell_type": "code",
   "execution_count": 6,
   "source": [
    "\n",
    "data_root = \"/home/maling/fanqiliang/data/Prostate-MRI-US-Biopsy\"\n",
    "stl_root = \"/home/maling/fanqiliang/data/Prostate-MRI-US-Biopsy/STLs/STLs\"\n",
    "\n",
    "us_root = \"/home/maling/fanqiliang/output_data/medical_data/us\"\n",
    "mr_root = \"/home/maling/fanqiliang/output_data/medical_data/mr\"\n",
    "\n",
    "\n",
    "an_root = \"/home/maling/fanqiliang/data/Prostate-MRI-US-Biopsy/manifest-1599764098812\"\n",
    "annoation = \"/home/maling/fanqiliang/data/Prostate-MRI-US-Biopsy/manifest-1599764098812/metadata.csv\"\n",
    "import pandas as pd\n",
    "dt = pd.read_csv(annoation)\n",
    "print(dt.columns)\n",
    "# STL使用series UID来对应\n",
    "print(dt.head(1)[\"Series UID\"].values)\n",
    "print(dt.head(1)[\"Study UID\"].values)\n",
    "dt.head(2)"
   ],
   "outputs": [
    {
     "output_type": "stream",
     "name": "stdout",
     "text": [
      "Index(['Series UID', 'Collection', '3rd Party Analysis',\n",
      "       'Data Description URI', 'Subject ID', 'Study UID', 'Study Description',\n",
      "       'Study Date', 'Series Description', 'Manufacturer', 'Modality',\n",
      "       'SOP Class Name', 'SOP Class UID', 'Number of Images', 'File Size',\n",
      "       'File Location', 'Download Timestamp'],\n",
      "      dtype='object')\n",
      "['1.3.6.1.4.1.14519.5.2.1.266717969984343981963002258381778490221']\n",
      "['1.3.6.1.4.1.14519.5.2.1.85548304921965658367726869399297351743']\n"
     ]
    },
    {
     "output_type": "execute_result",
     "data": {
      "text/plain": [
       "                                          Series UID              Collection  \\\n",
       "0  1.3.6.1.4.1.14519.5.2.1.2667179699843439819630...  Prostate-MRI-US-Biopsy   \n",
       "1  1.3.6.1.4.1.14519.5.2.1.1202285930413120999892...  Prostate-MRI-US-Biopsy   \n",
       "\n",
       "   3rd Party Analysis                        Data Description URI  \\\n",
       "0                 NaN  https://doi.org/10.7937/TCIA.2020.A61IOC1A   \n",
       "1                 NaN  https://doi.org/10.7937/TCIA.2020.A61IOC1A   \n",
       "\n",
       "                    Subject ID  \\\n",
       "0  Prostate-MRI-US-Biopsy-0001   \n",
       "1  Prostate-MRI-US-Biopsy-0001   \n",
       "\n",
       "                                           Study UID  \\\n",
       "0  1.3.6.1.4.1.14519.5.2.1.8554830492196565836772...   \n",
       "1  1.3.6.1.4.1.14519.5.2.1.3019932889266692284498...   \n",
       "\n",
       "            Study Description  Study Date         Series Description  \\\n",
       "0  MRI PROSTATE W WO CONTRAST  06-28-2009  t2spcrstaxial oblProstate   \n",
       "1                3D Rendering  11-28-2010                        NaN   \n",
       "\n",
       "  Manufacturer Modality                        SOP Class Name  \\\n",
       "0      SIEMENS       MR                      MR Image Storage   \n",
       "1        Eigen       US  Ultrasound Multi-frame Image Storage   \n",
       "\n",
       "                 SOP Class UID  Number of Images File Size  \\\n",
       "0    1.2.840.10008.5.1.4.1.1.4                60   7.70 MB   \n",
       "1  1.2.840.10008.5.1.4.1.1.3.1                 1  28.06 MB   \n",
       "\n",
       "                                       File Location       Download Timestamp  \n",
       "0  .\\Prostate-MRI-US-Biopsy\\Prostate-MRI-US-Biops...  2021-06-12T16:52:28.274  \n",
       "1  .\\Prostate-MRI-US-Biopsy\\Prostate-MRI-US-Biops...  2021-06-12T16:52:45.464  "
      ],
      "text/html": [
       "<div>\n",
       "<style scoped>\n",
       "    .dataframe tbody tr th:only-of-type {\n",
       "        vertical-align: middle;\n",
       "    }\n",
       "\n",
       "    .dataframe tbody tr th {\n",
       "        vertical-align: top;\n",
       "    }\n",
       "\n",
       "    .dataframe thead th {\n",
       "        text-align: right;\n",
       "    }\n",
       "</style>\n",
       "<table border=\"1\" class=\"dataframe\">\n",
       "  <thead>\n",
       "    <tr style=\"text-align: right;\">\n",
       "      <th></th>\n",
       "      <th>Series UID</th>\n",
       "      <th>Collection</th>\n",
       "      <th>3rd Party Analysis</th>\n",
       "      <th>Data Description URI</th>\n",
       "      <th>Subject ID</th>\n",
       "      <th>Study UID</th>\n",
       "      <th>Study Description</th>\n",
       "      <th>Study Date</th>\n",
       "      <th>Series Description</th>\n",
       "      <th>Manufacturer</th>\n",
       "      <th>Modality</th>\n",
       "      <th>SOP Class Name</th>\n",
       "      <th>SOP Class UID</th>\n",
       "      <th>Number of Images</th>\n",
       "      <th>File Size</th>\n",
       "      <th>File Location</th>\n",
       "      <th>Download Timestamp</th>\n",
       "    </tr>\n",
       "  </thead>\n",
       "  <tbody>\n",
       "    <tr>\n",
       "      <th>0</th>\n",
       "      <td>1.3.6.1.4.1.14519.5.2.1.2667179699843439819630...</td>\n",
       "      <td>Prostate-MRI-US-Biopsy</td>\n",
       "      <td>NaN</td>\n",
       "      <td>https://doi.org/10.7937/TCIA.2020.A61IOC1A</td>\n",
       "      <td>Prostate-MRI-US-Biopsy-0001</td>\n",
       "      <td>1.3.6.1.4.1.14519.5.2.1.8554830492196565836772...</td>\n",
       "      <td>MRI PROSTATE W WO CONTRAST</td>\n",
       "      <td>06-28-2009</td>\n",
       "      <td>t2spcrstaxial oblProstate</td>\n",
       "      <td>SIEMENS</td>\n",
       "      <td>MR</td>\n",
       "      <td>MR Image Storage</td>\n",
       "      <td>1.2.840.10008.5.1.4.1.1.4</td>\n",
       "      <td>60</td>\n",
       "      <td>7.70 MB</td>\n",
       "      <td>.\\Prostate-MRI-US-Biopsy\\Prostate-MRI-US-Biops...</td>\n",
       "      <td>2021-06-12T16:52:28.274</td>\n",
       "    </tr>\n",
       "    <tr>\n",
       "      <th>1</th>\n",
       "      <td>1.3.6.1.4.1.14519.5.2.1.1202285930413120999892...</td>\n",
       "      <td>Prostate-MRI-US-Biopsy</td>\n",
       "      <td>NaN</td>\n",
       "      <td>https://doi.org/10.7937/TCIA.2020.A61IOC1A</td>\n",
       "      <td>Prostate-MRI-US-Biopsy-0001</td>\n",
       "      <td>1.3.6.1.4.1.14519.5.2.1.3019932889266692284498...</td>\n",
       "      <td>3D Rendering</td>\n",
       "      <td>11-28-2010</td>\n",
       "      <td>NaN</td>\n",
       "      <td>Eigen</td>\n",
       "      <td>US</td>\n",
       "      <td>Ultrasound Multi-frame Image Storage</td>\n",
       "      <td>1.2.840.10008.5.1.4.1.1.3.1</td>\n",
       "      <td>1</td>\n",
       "      <td>28.06 MB</td>\n",
       "      <td>.\\Prostate-MRI-US-Biopsy\\Prostate-MRI-US-Biops...</td>\n",
       "      <td>2021-06-12T16:52:45.464</td>\n",
       "    </tr>\n",
       "  </tbody>\n",
       "</table>\n",
       "</div>"
      ]
     },
     "metadata": {},
     "execution_count": 6
    }
   ],
   "metadata": {}
  },
  {
   "cell_type": "code",
   "execution_count": 8,
   "source": [
    "import os\n",
    "from glob import glob\n",
    "import SimpleITK as sitk\n",
    "import shutil\n",
    "\n",
    "if not os.path.exists(us_root):\n",
    "    os.makedirs(us_root)\n",
    "if not os.path.exists(mr_root):\n",
    "    os.makedirs(mr_root)"
   ],
   "outputs": [],
   "metadata": {}
  },
  {
   "cell_type": "markdown",
   "source": [
    "# US (3D -> 2D) "
   ],
   "metadata": {}
  },
  {
   "cell_type": "code",
   "execution_count": 17,
   "source": [
    "us_dt = dt[dt[\"Modality\"] == \"US\"]\n",
    "print(\"the number of us files\", len(us_dt))\n",
    "files = us_dt[\"File Location\"].values\n",
    "sids = us_dt[\"Series UID\"].values\n",
    "assert len(files) == len(sids)\n",
    "\n",
    "from typing import cast\n",
    "for idx, (f, sid) in enumerate(zip(files, sids)):\n",
    "    f = cast(str, f)\n",
    "    f = f.lstrip(\".\\\\\").replace(\"\\\\\", \"/\")\n",
    "    f = os.path.join(an_root, f)\n",
    "\n",
    "    save_path = os.path.join(us_root, f\"{idx}\")\n",
    "    data_path = os.path.join(save_path, \"data\")\n",
    "    if not os.path.exists(data_path):\n",
    "        os.makedirs(data_path, exist_ok=True)\n",
    "    dicom = glob(os.path.join(f, \"*.dcm\"))[0]\n",
    "    img = sitk.ReadImage(dicom)\n",
    "    arr = sitk.GetArrayFromImage(img)\n",
    "    for arr_idx, slice in enumerate(arr):\n",
    "        save_file = os.path.join(data_path, f\"{arr_idx}.dcm\")\n",
    "        sitk.WriteImage(sitk.GetImageFromArray(slice), save_file)\n",
    "\n",
    "    stls = glob(os.path.join(stl_root, f\"*{sid}.STL\"))\n",
    "    for stl in stls:\n",
    "        shutil.copy(stl, stl.replace(stl_root, save_path))\n"
   ],
   "outputs": [
    {
     "output_type": "stream",
     "name": "stdout",
     "text": [
      "the number of us files 1762\n"
     ]
    }
   ],
   "metadata": {}
  },
  {
   "cell_type": "markdown",
   "source": [
    "# MR (2D already)"
   ],
   "metadata": {}
  },
  {
   "cell_type": "code",
   "execution_count": 24,
   "source": [
    "mr_dt = dt[dt[\"Modality\"] == \"MR\"]\n",
    "print(\"the number of MR files\", len(mr_dt))\n",
    "files = mr_dt[\"File Location\"].values\n",
    "sids = mr_dt[\"Series UID\"].values\n",
    "assert len(files) == len(sids)\n",
    "\n",
    "from typing import cast\n",
    "for idx, (f, sid) in enumerate(zip(files, sids)):\n",
    "    f = cast(str, f)\n",
    "    f = f.lstrip(\".\\\\\").replace(\"\\\\\", \"/\")\n",
    "    f = os.path.join(an_root, f)\n",
    "\n",
    "    save_path = os.path.join(mr_root, f\"{idx}\")\n",
    "    data_path = os.path.join(save_path, \"data\")\n",
    "    if not os.path.exists(data_path):\n",
    "        os.makedirs(data_path, exist_ok=True)\n",
    "    dicoms = glob(os.path.join(f, \"*.dcm\"))\n",
    "    for idx, d in enumerate(dicoms):\n",
    "        save_file = os.path.join(data_path, os.path.basename(d))\n",
    "        shutil.copy(d, save_file)\n",
    "\n",
    "    stls = glob(os.path.join(stl_root, f\"*{sid}.STL\"))\n",
    "    for stl in stls:\n",
    "        shutil.copy(stl, stl.replace(stl_root, save_path))\n"
   ],
   "outputs": [
    {
     "output_type": "stream",
     "name": "stdout",
     "text": [
      "the number of MR files 1017\n"
     ]
    }
   ],
   "metadata": {}
  },
  {
   "cell_type": "markdown",
   "source": [
    "# Stat\n",
    "MR: 59293\n",
    "\n",
    "US: 435628\n",
    "\n",
    "CT: 159380"
   ],
   "metadata": {}
  }
 ],
 "metadata": {
  "orig_nbformat": 4,
  "language_info": {
   "name": "python",
   "version": "3.8.5",
   "mimetype": "text/x-python",
   "codemirror_mode": {
    "name": "ipython",
    "version": 3
   },
   "pygments_lexer": "ipython3",
   "nbconvert_exporter": "python",
   "file_extension": ".py"
  },
  "kernelspec": {
   "name": "python3",
   "display_name": "Python 3.8.5 64-bit ('ml': conda)"
  },
  "interpreter": {
   "hash": "31416d85a9b5eb123e5e15673e2f015463e3680f3131b9840b22a0bd3286ffb9"
  }
 },
 "nbformat": 4,
 "nbformat_minor": 2
}