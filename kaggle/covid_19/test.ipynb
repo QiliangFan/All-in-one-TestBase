{
 "metadata": {
  "language_info": {
   "codemirror_mode": {
    "name": "ipython",
    "version": 3
   },
   "file_extension": ".py",
   "mimetype": "text/x-python",
   "name": "python",
   "nbconvert_exporter": "python",
   "pygments_lexer": "ipython3",
   "version": "3.8.5"
  },
  "orig_nbformat": 2,
  "kernelspec": {
   "name": "python3",
   "display_name": "Python 3.8.5 64-bit ('ml': conda)"
  },
  "interpreter": {
   "hash": "31416d85a9b5eb123e5e15673e2f015463e3680f3131b9840b22a0bd3286ffb9"
  }
 },
 "nbformat": 4,
 "nbformat_minor": 2,
 "cells": [
  {
   "cell_type": "code",
   "execution_count": 1,
   "metadata": {},
   "outputs": [],
   "source": [
    "import torch\n",
    "\n",
    "def bbox_iou(bbox_a: torch.Tensor, bbox_b: torch.Tensor):\n",
    "    if bbox_a.shape[1] != 4 or bbox_b.shape[1] != 4:\n",
    "        raise IndexError()\n",
    "\n",
    "    # 最大的左上角与最大的最小的右下角, 就构成IOU面积\n",
    "    top_left = torch.maximum(bbox_a[:, None, :2], bbox_b[:, :2])\n",
    "    bottom_right = torch.minimum(bbox_a[:, None, 2:], bbox_b[:, 2:])\n",
    "\n",
    "    area_inter = torch.prod(bottom_right - top_left, dim=2) * \\\n",
    "        (top_left < bottom_right).all(dim=2)\n",
    "    area_a = torch.prod(bbox_a[:, 2:] - bbox_a[:, :2], dim=1)\n",
    "    area_b = torch.prod(bbox_b[:, 2:] - bbox_b[:, :2], dim=1)\n",
    "    area_union = area_a[:, None] + area_b\n",
    "    return area_inter / (area_union - area_inter)"
   ]
  },
  {
   "cell_type": "code",
   "execution_count": 7,
   "metadata": {},
   "outputs": [],
   "source": [
    "a = torch.as_tensor([[10, 10, 50, 50]])\n",
    "b = torch.as_tensor([[15, 15, 50, 50]])"
   ]
  },
  {
   "cell_type": "code",
   "execution_count": 8,
   "metadata": {},
   "outputs": [
    {
     "output_type": "stream",
     "name": "stdout",
     "text": [
      "tensor([[0.7656]])\n"
     ]
    }
   ],
   "source": [
    "res = bbox_iou(a, b)\n",
    "print(res)"
   ]
  },
  {
   "cell_type": "code",
   "execution_count": null,
   "metadata": {},
   "outputs": [],
   "source": []
  }
 ]
}