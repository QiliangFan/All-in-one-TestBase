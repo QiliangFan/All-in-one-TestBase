{
 "metadata": {
  "language_info": {
   "codemirror_mode": {
    "name": "ipython",
    "version": 3
   },
   "file_extension": ".py",
   "mimetype": "text/x-python",
   "name": "python",
   "nbconvert_exporter": "python",
   "pygments_lexer": "ipython3",
   "version": "3.8.5"
  },
  "orig_nbformat": 2,
  "kernelspec": {
   "name": "python3",
   "display_name": "Python 3.8.5 64-bit ('ml': conda)"
  },
  "interpreter": {
   "hash": "31416d85a9b5eb123e5e15673e2f015463e3680f3131b9840b22a0bd3286ffb9"
  }
 },
 "nbformat": 4,
 "nbformat_minor": 2,
 "cells": [
  {
   "cell_type": "code",
   "execution_count": 22,
   "metadata": {},
   "outputs": [
    {
     "output_type": "stream",
     "name": "stdout",
     "text": [
      "(1, 2544, 3056)\n255.0 0.0\n"
     ]
    }
   ],
   "source": [
    "import cv2\n",
    "from glob import glob\n",
    "import os\n",
    "import SimpleITK as sitk\n",
    "import numpy as np\n",
    "\n",
    "train_root = \"/home/maling/fanqiliang/data/kaggle/siim-covid19-detection/train\"\n",
    "test = glob(os.path.join(train_root, \"**\", \"*.dcm\"), recursive=True)[0]\n",
    "arr = sitk.GetArrayFromImage(sitk.ReadImage(test))\n",
    "print(arr.shape)\n",
    "arr = (arr - arr.min()) / (arr.max() - arr.min()) * 255\n",
    "print(arr.max(), arr.min())"
   ]
  },
  {
   "cell_type": "code",
   "execution_count": 28,
   "metadata": {},
   "outputs": [
    {
     "output_type": "execute_result",
     "data": {
      "text/plain": [
       "True"
      ]
     },
     "metadata": {},
     "execution_count": 28
    }
   ],
   "source": [
    "_arr = arr[0]\n",
    "cv2.rectangle(_arr, (200, 200), (600, 600), 255, thickness=5)\n",
    "cv2.imwrite(\"test.jpg\", _arr)"
   ]
  },
  {
   "cell_type": "code",
   "execution_count": null,
   "metadata": {},
   "outputs": [],
   "source": []
  }
 ]
}