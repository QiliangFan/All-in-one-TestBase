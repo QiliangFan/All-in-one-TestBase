{
 "cells": [
  {
   "cell_type": "code",
   "execution_count": 2,
   "metadata": {},
   "outputs": [],
   "source": [
    "import os\n",
    "import SimpleITK as sitk\n",
    "from SimpleITK import Image\n",
    "import numpy as np\n",
    "from typing import Tuple\n",
    "from glob import glob"
   ]
  },
  {
   "cell_type": "code",
   "execution_count": 3,
   "metadata": {},
   "outputs": [],
   "source": [
    "origin_root = \"/home/fanqiliang/data/picai_origin\"\n",
    "dst_root = \"/home/fanqiliang/data/picai\"\n",
    "if not os.path.exists(dst_root):\n",
    "    os.makedirs(dst_root)"
   ]
  },
  {
   "cell_type": "code",
   "execution_count": 4,
   "metadata": {},
   "outputs": [],
   "source": [
    "SIZE = 128\n",
    "\n",
    "def load_origin(tag: str) -> Tuple[Image, Image]:\n",
    "    origin_label_file = os.path.join(origin_root, \"labels\", f\"{tag}.nii.gz\")\n",
    "    origin_data_file = os.path.join(origin_root, \"data\", f\"{tag}.mha\")\n",
    "    label = sitk.ReadImage(origin_label_file)\n",
    "    data = sitk.ReadImage(origin_data_file)\n",
    "    return data, label\n",
    "\n",
    "def process(data: Image, label: Image) -> Tuple[Image, Image]:\n",
    "    # 1. 偏域修正\n",
    "    corrector = sitk.N4BiasFieldCorrectionImageFilter()\n",
    "    corrector.SetMaximumNumberOfIterations([50] * 8)  # https://simpleitk.readthedocs.io/en/release/link_N4BiasFieldCorrection_docs.html\n",
    "    data = corrector.Execute(data, label)\n",
    "\n",
    "    # 重采样\n",
    "    seg_space = label.GetSpacing()\n",
    "    seg_shape = label.GetSize()\n",
    "    z_shape = arr.shape[0]\n",
    "    for i in range(1, 10):\n",
    "        if abs(z_shape - 2 ** i) < abs(z_shape - 2 ** (i+1)):\n",
    "            z_size = 2 ** i\n",
    "            break\n",
    "    resampler = sitk.ResampleImageFilter()\n",
    "    resampler.SetReferenceImage(data)\n",
    "    resampler.SetOutputSpacing([seg_space[0] * seg_shape[0] / SIZE, seg_space[1] * seg_shape[1] / SIZE, seg_space[2] * seg_shape[2] / (z_size+1)])\n",
    "    resampler.SetSize((SIZE, SIZE, (z_size+1)))\n",
    "    resampler.SetInterpolator(sitk.sitkNearestNeighbor)\n",
    "    seg_img = resampler.Execute(label)\n",
    "    seg_arr = sitk.GetArrayFromImage(seg_img)[:-1]\n",
    "    img = resampler.Execute(data)\n",
    "    arr = sitk.GetArrayFromImage(img)[:-1]\n",
    "\n",
    "    # 标准化\n",
    "    arr = (arr - arr.min()) / (arr.max() - arr.min())\n",
    "    # arr = (arr - arr[arr > 0].mean()) / arr[arr > 0].std()\n",
    "    seg_arr = np.where(seg_arr > 0.5, 1, 0).astype(int)\n",
    "    return sitk.GetImageFromArray(arr), sitk.GetImageFromArray(seg_arr)"
   ]
  },
  {
   "cell_type": "code",
   "execution_count": null,
   "metadata": {},
   "outputs": [],
   "source": [
    "def main():\n",
    "    origin_labels = glob(os.path.join(origin_root, \"labels\", \"*.nii.gz\"))\n",
    "    tags = [path.replace(os.path.join(origin_root, \"labels\"), \"\").replace(\".nii.gz\", \"\") for path in origin_labels]\n",
    "    for i, tag in enumerate(tags):\n",
    "        dst_label_file = os.path.join(dst_root, f\"{i}_seg.mhd\")\n",
    "        dst_data_file = os.path.join(dst_root, f\"{i}.mhd\")\n",
    "        data, label = load_origin(tag)\n",
    "        data, label = process(data, label)\n",
    "        sitk.WriteImage(data, dst_data_file)\n",
    "        sitk.WriteImage(label, dst_label_file)"
   ]
  }
 ],
 "metadata": {
  "kernelspec": {
   "display_name": "ml",
   "language": "python",
   "name": "python3"
  },
  "language_info": {
   "codemirror_mode": {
    "name": "ipython",
    "version": 3
   },
   "file_extension": ".py",
   "mimetype": "text/x-python",
   "name": "python",
   "nbconvert_exporter": "python",
   "pygments_lexer": "ipython3",
   "version": "3.9.7"
  },
  "orig_nbformat": 4
 },
 "nbformat": 4,
 "nbformat_minor": 2
}
